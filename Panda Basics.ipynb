{
 "cells": [
  {
   "cell_type": "code",
   "execution_count": null,
   "id": "a93181e1",
   "metadata": {},
   "outputs": [],
   "source": [
    "import pandas as pd"
   ]
  },
  {
   "cell_type": "code",
   "execution_count": null,
   "id": "7af5eef1",
   "metadata": {},
   "outputs": [],
   "source": [
    "pd.__version__"
   ]
  },
  {
   "cell_type": "code",
   "execution_count": null,
   "id": "57b95637",
   "metadata": {},
   "outputs": [],
   "source": [
    "pd.show_versions()"
   ]
  },
  {
   "cell_type": "code",
   "execution_count": null,
   "id": "c0957703",
   "metadata": {},
   "outputs": [],
   "source": [
    "# this will open all the options that you can use when reading your file using pandas\n",
    "pd.read_csv?"
   ]
  },
  {
   "cell_type": "code",
   "execution_count": null,
   "id": "68ed9ef1",
   "metadata": {},
   "outputs": [],
   "source": [
    "oo = pd.read_csv(r'A:\\Python\\Pandas essential\\Ex_Files_Pandas_EssT\\ExerciseFiles\\data\\olympics.csv', skiprows=4)\n",
    "\n",
    "# skiprows ignore the first couple of rows on Excel that do not have any info for our table\n",
    "# if your data set is not in the first sheet of your csv file, you can use sheet_name = 'your-sheet_name' to import the right worksheet\n"
   ]
  },
  {
   "cell_type": "code",
   "execution_count": null,
   "id": "0c4bc8f9",
   "metadata": {
    "scrolled": true
   },
   "outputs": [],
   "source": [
    "oo.head()\n",
    "# default rows for head() is 5, you can change it by putting the number of rows you want"
   ]
  },
  {
   "cell_type": "code",
   "execution_count": null,
   "id": "d444225e",
   "metadata": {
    "scrolled": true
   },
   "outputs": [],
   "source": [
    "# alternatively you can use command below to see random rows from your dataset\n",
    "\n",
    "oo.sample(5)"
   ]
  },
  {
   "cell_type": "markdown",
   "id": "aec862b7",
   "metadata": {},
   "source": [
    "## What if you want to be able to see all the rows of your dataset?\n",
    "\n",
    "you can use the set_option along with display.max.rows or display.max.columns"
   ]
  },
  {
   "cell_type": "code",
   "execution_count": null,
   "id": "59d8aebe",
   "metadata": {},
   "outputs": [],
   "source": [
    "oo.shape"
   ]
  },
  {
   "cell_type": "code",
   "execution_count": null,
   "id": "2aa65fa5",
   "metadata": {},
   "outputs": [],
   "source": [
    "pd.set_option('display.max_rows', 29216)\n",
    "# this option is usually good if your rows are less than 500\n",
    "pd.set_option('display.max_columns', 10)"
   ]
  },
  {
   "cell_type": "code",
   "execution_count": null,
   "id": "8e930f80",
   "metadata": {},
   "outputs": [],
   "source": [
    "oo.info()\n",
    "\n",
    "# pay attention to 29216 entires that is consistent along all variables (no missing), also data types that there is one integer\n",
    "# and everything else is object (character)"
   ]
  },
  {
   "cell_type": "code",
   "execution_count": null,
   "id": "ad1151ac",
   "metadata": {},
   "outputs": [],
   "source": [
    "oo.columns\n",
    "# for the list of columns"
   ]
  },
  {
   "cell_type": "markdown",
   "id": "55e0f4fe",
   "metadata": {},
   "source": [
    "# Working with Series"
   ]
  },
  {
   "cell_type": "code",
   "execution_count": null,
   "id": "2a09a389",
   "metadata": {},
   "outputs": [],
   "source": [
    "# Let's get an understanding of distribution of observations in each city\n",
    "oo['City'].value_counts()"
   ]
  },
  {
   "cell_type": "code",
   "execution_count": null,
   "id": "100d88df",
   "metadata": {
    "scrolled": true
   },
   "outputs": [],
   "source": [
    "oo.Athlete"
   ]
  },
  {
   "cell_type": "code",
   "execution_count": null,
   "id": "2e51f071",
   "metadata": {},
   "outputs": [],
   "source": [
    "#when we want to look at multiple columns in a series we use double brackets\n",
    "oo[['City', 'Edition', 'Athlete']]\n",
    "\n",
    "# if you want to create a new dataset using selected columsn df1 = oo[['City', 'Edition', 'Athlete']]"
   ]
  },
  {
   "cell_type": "code",
   "execution_count": null,
   "id": "bdf3a597",
   "metadata": {},
   "outputs": [],
   "source": [
    "df1 = oo[['City', 'Edition', 'Athlete']]\n",
    "df1.head()"
   ]
  },
  {
   "cell_type": "code",
   "execution_count": null,
   "id": "a6eed7ac",
   "metadata": {
    "scrolled": true
   },
   "outputs": [],
   "source": [
    "type(oo[['City', 'Edition', 'Athlete']])"
   ]
  },
  {
   "cell_type": "code",
   "execution_count": null,
   "id": "e9773599",
   "metadata": {},
   "outputs": [],
   "source": [
    "type(oo.City)"
   ]
  },
  {
   "cell_type": "code",
   "execution_count": null,
   "id": "c7465b58",
   "metadata": {},
   "outputs": [],
   "source": [
    "oo.shape[0]"
   ]
  },
  {
   "cell_type": "code",
   "execution_count": null,
   "id": "46fdea5e",
   "metadata": {},
   "outputs": [],
   "source": [
    "oo.shape[1]"
   ]
  },
  {
   "cell_type": "code",
   "execution_count": null,
   "id": "39bcf9b2",
   "metadata": {},
   "outputs": [],
   "source": [
    "oo.head(3)"
   ]
  },
  {
   "cell_type": "code",
   "execution_count": null,
   "id": "4f99f408",
   "metadata": {},
   "outputs": [],
   "source": [
    "oo.tail(5)"
   ]
  },
  {
   "cell_type": "code",
   "execution_count": null,
   "id": "a6e52108",
   "metadata": {},
   "outputs": [],
   "source": [
    "oo.Edition.value_counts()"
   ]
  },
  {
   "cell_type": "markdown",
   "id": "d8e9fafe",
   "metadata": {},
   "source": [
    "# Filtering in Pandas"
   ]
  },
  {
   "cell_type": "code",
   "execution_count": null,
   "id": "90bbcc72",
   "metadata": {},
   "outputs": [],
   "source": [
    "# what if we want to see only the olympics after 2000?\n",
    "oo[oo['Edition'] > 1996]"
   ]
  },
  {
   "cell_type": "code",
   "execution_count": null,
   "id": "f2e34db1",
   "metadata": {},
   "outputs": [],
   "source": [
    "# what if we are only interested in medals achieved by certain countries' athlethes?\n",
    "\n",
    "Countries = ['USA', 'MEX', 'CAN']\n",
    "oo[oo['NOC'].isin(Countries)]"
   ]
  },
  {
   "cell_type": "code",
   "execution_count": null,
   "id": "2c6343b9",
   "metadata": {},
   "outputs": [],
   "source": [
    "# Look for string variable that contain certain name\n",
    "\n",
    "oo[oo['Athlete'].str.contains('Thomas')]"
   ]
  },
  {
   "cell_type": "markdown",
   "id": "689678e1",
   "metadata": {},
   "source": [
    "## Filtering using loc (location) or iloc (integer location)"
   ]
  },
  {
   "cell_type": "code",
   "execution_count": null,
   "id": "2fc2c8e2",
   "metadata": {},
   "outputs": [],
   "source": [
    "oo.head()"
   ]
  },
  {
   "cell_type": "code",
   "execution_count": null,
   "id": "55f4b8a2",
   "metadata": {},
   "outputs": [],
   "source": [
    "# let's first change the index column\n",
    "oo1 = oo.set_index('City')\n",
    "oo1.head()"
   ]
  },
  {
   "cell_type": "code",
   "execution_count": null,
   "id": "8e7747a5",
   "metadata": {},
   "outputs": [],
   "source": [
    "pd.set_option('display.max_rows', 10)"
   ]
  },
  {
   "cell_type": "code",
   "execution_count": null,
   "id": "0d7e60cf",
   "metadata": {},
   "outputs": [],
   "source": [
    "oo1.filter(items = ['Edition', 'NOC', 'Gender'])\n",
    "# the default has axis = 1 which represents the columns of the dataset. If we write axis = 0 we get all the columns"
   ]
  },
  {
   "cell_type": "code",
   "execution_count": null,
   "id": "4c5a7c00",
   "metadata": {},
   "outputs": [],
   "source": [
    "oo1.filter(items = ['Edition', 'NOC', 'Gender'], axis = 0)"
   ]
  },
  {
   "cell_type": "code",
   "execution_count": null,
   "id": "71894474",
   "metadata": {},
   "outputs": [],
   "source": [
    "oo1.filter(like = ['Athens'], axis = 0)"
   ]
  },
  {
   "cell_type": "code",
   "execution_count": null,
   "id": "7ba13651",
   "metadata": {},
   "outputs": [],
   "source": [
    "oo1.loc['Athens']"
   ]
  },
  {
   "cell_type": "code",
   "execution_count": null,
   "id": "b2039e35",
   "metadata": {},
   "outputs": [],
   "source": [
    "oo1.iloc[1830]"
   ]
  },
  {
   "cell_type": "code",
   "execution_count": null,
   "id": "d56a826f",
   "metadata": {},
   "outputs": [],
   "source": [
    "oo"
   ]
  },
  {
   "cell_type": "code",
   "execution_count": null,
   "id": "f8e7dce7",
   "metadata": {},
   "outputs": [],
   "source": [
    "oo[oo['Edition'] < 1980].sort_values(by='Edition', ascending=False) # ascending false make it higher to lower"
   ]
  },
  {
   "cell_type": "code",
   "execution_count": null,
   "id": "c9d317c2",
   "metadata": {},
   "outputs": [],
   "source": [
    "oo[oo['Edition'] < 1980].sort_values(by=['Edition', 'Sport'], ascending=False)\n",
    "# this will sort based on edition and sport from high to low "
   ]
  },
  {
   "cell_type": "code",
   "execution_count": null,
   "id": "1500eaec",
   "metadata": {},
   "outputs": [],
   "source": [
    "oo[oo['Edition'] < 1980].sort_values(by=['Sport','Edition'], ascending=[False, True])\n",
    "# here we changed the order. Our sports are from high to low and our edition are from low to high"
   ]
  },
  {
   "cell_type": "code",
   "execution_count": null,
   "id": "11ccb097",
   "metadata": {},
   "outputs": [],
   "source": [
    "oo.Gender.value_counts(ascending=True,dropna=False)"
   ]
  },
  {
   "cell_type": "code",
   "execution_count": null,
   "id": "01d79694",
   "metadata": {},
   "outputs": [],
   "source": [
    "ath=oo.Athlete.sort_values\n",
    "ath"
   ]
  },
  {
   "cell_type": "code",
   "execution_count": null,
   "id": "20a7c3f3",
   "metadata": {},
   "outputs": [],
   "source": [
    "type(oo.Gender=='Men')"
   ]
  },
  {
   "cell_type": "code",
   "execution_count": null,
   "id": "38ea2293",
   "metadata": {},
   "outputs": [],
   "source": [
    "oom = oo[oo.Gender=='Men']\n",
    "oom"
   ]
  },
  {
   "cell_type": "code",
   "execution_count": null,
   "id": "71c41e5e",
   "metadata": {},
   "outputs": [],
   "source": [
    "# let's look at all the gold winners\n",
    "oo[oo.Medal =='Gold']"
   ]
  },
  {
   "cell_type": "code",
   "execution_count": null,
   "id": "1e25b3a0",
   "metadata": {},
   "outputs": [],
   "source": [
    "# How about all the all the gold winners who are women\n",
    "oo[(oo.Medal =='Gold') & (oo.Gender =='Women')]"
   ]
  },
  {
   "cell_type": "code",
   "execution_count": null,
   "id": "89666c8e",
   "metadata": {},
   "outputs": [],
   "source": [
    "# all the athlete whos names are Florence and won a bronze\n",
    "oo[(oo.Athlete.str.contains('Florence')) & (oo.Medal == 'Bronze')]"
   ]
  },
  {
   "cell_type": "code",
   "execution_count": null,
   "id": "39f50bcc",
   "metadata": {},
   "outputs": [],
   "source": [
    "oo[oo.Athlete.str.contains('OWENS')]   #REMEMBER IT IS CASE SENSITIVE"
   ]
  },
  {
   "cell_type": "code",
   "execution_count": null,
   "id": "f8772dc3",
   "metadata": {},
   "outputs": [],
   "source": [
    "# Which countries won the most medals?\n",
    "oo.NOC.value_counts().head(3)"
   ]
  },
  {
   "cell_type": "code",
   "execution_count": null,
   "id": "cec9f921",
   "metadata": {},
   "outputs": [],
   "source": [
    "# Which countries won the least medals?\n",
    "oo.NOC.value_counts().tail(3)"
   ]
  },
  {
   "cell_type": "code",
   "execution_count": null,
   "id": "474f5475",
   "metadata": {},
   "outputs": [],
   "source": [
    "# What if we are looking for specific athlete\n",
    "cl = oo[oo.Athlete=='LEWIS, Carl']\n",
    "cl"
   ]
  },
  {
   "cell_type": "code",
   "execution_count": null,
   "id": "0f6aef46",
   "metadata": {},
   "outputs": [],
   "source": [
    "# how to know what even carl lewis won medal\n",
    "\n",
    "cl.Event.value_counts()"
   ]
  },
  {
   "cell_type": "markdown",
   "id": "72f9136c",
   "metadata": {},
   "source": [
    "## Question: Which country has won the most men's Gold medals in singles Badminton over the years? Sort the results alphabetically by the Player's Names.\n"
   ]
  },
  {
   "cell_type": "code",
   "execution_count": null,
   "id": "35ddc2e7",
   "metadata": {},
   "outputs": [],
   "source": [
    "oo.Sport.value_counts()                  "
   ]
  },
  {
   "cell_type": "code",
   "execution_count": null,
   "id": "eb7065a9",
   "metadata": {},
   "outputs": [],
   "source": [
    "oo[oo['NOC'].sort_values(by='Medal')]"
   ]
  },
  {
   "cell_type": "code",
   "execution_count": null,
   "id": "4c25a24e",
   "metadata": {},
   "outputs": [],
   "source": [
    "gbm =oo[(oo.Medal == 'Gold') & (oo.Gender == 'Men') & (oo.Sport == 'Badminton')]\n",
    "gbm"
   ]
  },
  {
   "cell_type": "code",
   "execution_count": null,
   "id": "59f7be4b",
   "metadata": {},
   "outputs": [],
   "source": [
    "gbm =oo[(oo.Medal == 'Gold') & (oo.Gender == 'Men') & (oo.Sport == 'Badminton') & (oo.Athlete.str.contains('oo'))]\n",
    "gbm"
   ]
  },
  {
   "cell_type": "code",
   "execution_count": null,
   "id": "1084ff10",
   "metadata": {},
   "outputs": [],
   "source": [
    "## Now, let's sort them\n",
    "\n",
    "gbm.sort_values(by=['Athlete'])"
   ]
  },
  {
   "cell_type": "code",
   "execution_count": null,
   "id": "a9b71f53",
   "metadata": {},
   "outputs": [],
   "source": [
    "gbm.NOC.value_counts()"
   ]
  },
  {
   "cell_type": "markdown",
   "id": "6233fc9a",
   "metadata": {},
   "source": [
    "## Which three countries have won the most medals in recent years (1984 - 2008)"
   ]
  },
  {
   "cell_type": "code",
   "execution_count": null,
   "id": "bafb712b",
   "metadata": {},
   "outputs": [],
   "source": [
    "ry = oo[(oo.Edition >=1984) & (oo.Edition <=2008)]\n",
    "ry"
   ]
  },
  {
   "cell_type": "code",
   "execution_count": null,
   "id": "9de551dc",
   "metadata": {},
   "outputs": [],
   "source": [
    "ry.NOC.value_counts()"
   ]
  },
  {
   "cell_type": "code",
   "execution_count": null,
   "id": "d4165d97",
   "metadata": {},
   "outputs": [],
   "source": [
    "ry.NOC.value_counts().head(3)"
   ]
  },
  {
   "cell_type": "markdown",
   "id": "e18942cf",
   "metadata": {},
   "source": [
    "## Display the male gold medal winners for the 100m Track & Field sprint over the years. List the results starting with the most recent. Show the Olympic City, Edition, Athlete and the country they represent. "
   ]
  },
  {
   "cell_type": "code",
   "execution_count": null,
   "id": "2b1ee4e7",
   "metadata": {},
   "outputs": [],
   "source": [
    "gmh = oo[(oo.Gender == 'Men') & (oo.Medal=='Gold') & (oo.Event=='100m')]\n",
    "gmh"
   ]
  },
  {
   "cell_type": "code",
   "execution_count": null,
   "id": "c92ee3dc",
   "metadata": {},
   "outputs": [],
   "source": [
    "gmh.sort_values('Edition', ascending=False)"
   ]
  },
  {
   "cell_type": "code",
   "execution_count": null,
   "id": "b5002287",
   "metadata": {},
   "outputs": [],
   "source": [
    "gmh.sort_values('Edition', ascending=False)[['City', 'Edition', 'Athlete', 'NOC']]"
   ]
  },
  {
   "cell_type": "markdown",
   "id": "dc0327df",
   "metadata": {},
   "source": [
    "# Basic Plotting"
   ]
  },
  {
   "cell_type": "code",
   "execution_count": null,
   "id": "89a13190",
   "metadata": {},
   "outputs": [],
   "source": [
    "import matplotlib.pyplot as plt\n",
    "%matplotlib inline  "
   ]
  },
  {
   "cell_type": "markdown",
   "id": "42260fcb",
   "metadata": {},
   "source": [
    "## What were the different sports in the first olympics? Plot them using different graphs."
   ]
  },
  {
   "cell_type": "code",
   "execution_count": null,
   "id": "01b19c15",
   "metadata": {},
   "outputs": [],
   "source": [
    "oo"
   ]
  },
  {
   "cell_type": "code",
   "execution_count": null,
   "id": "c456a018",
   "metadata": {},
   "outputs": [],
   "source": [
    "fo = oo[oo.Edition == 1896]\n",
    "fo.head()"
   ]
  },
  {
   "cell_type": "code",
   "execution_count": null,
   "id": "9e648ac6",
   "metadata": {},
   "outputs": [],
   "source": [
    "fo.Sport.value_counts().plot()"
   ]
  },
  {
   "cell_type": "code",
   "execution_count": null,
   "id": "15f46179",
   "metadata": {},
   "outputs": [],
   "source": [
    "fo.Sport.value_counts().plot(kind='bar')"
   ]
  },
  {
   "cell_type": "code",
   "execution_count": null,
   "id": "b5703f45",
   "metadata": {},
   "outputs": [],
   "source": [
    "fo.Sport.value_counts().plot(kind='barh')"
   ]
  },
  {
   "cell_type": "code",
   "execution_count": null,
   "id": "a989caff",
   "metadata": {},
   "outputs": [],
   "source": [
    "fo.Sport.value_counts().plot(kind='pie')"
   ]
  },
  {
   "cell_type": "markdown",
   "id": "c21e21d1",
   "metadata": {},
   "source": [
    "## Plot colors\n"
   ]
  },
  {
   "cell_type": "code",
   "execution_count": null,
   "id": "7186e5c4",
   "metadata": {},
   "outputs": [],
   "source": [
    "fo.Sport.value_counts().plot(kind='barh', color='maroon')"
   ]
  },
  {
   "cell_type": "markdown",
   "id": "46a10eaf",
   "metadata": {},
   "source": [
    "## Figure size"
   ]
  },
  {
   "cell_type": "code",
   "execution_count": null,
   "id": "8586c3d9",
   "metadata": {},
   "outputs": [],
   "source": [
    "fo.Sport.value_counts().plot(figsize=(10,3))"
   ]
  },
  {
   "cell_type": "markdown",
   "id": "57caa7dc",
   "metadata": {},
   "source": [
    "## Colormaps"
   ]
  },
  {
   "cell_type": "code",
   "execution_count": null,
   "id": "62cafa68",
   "metadata": {},
   "outputs": [],
   "source": [
    "fo.Sport.value_counts().plot(kind='pie', colormap='Pastel1')"
   ]
  },
  {
   "cell_type": "markdown",
   "id": "28b13499",
   "metadata": {},
   "source": [
    "# Seaborn basic plotting"
   ]
  },
  {
   "cell_type": "code",
   "execution_count": null,
   "id": "ef53742a",
   "metadata": {},
   "outputs": [],
   "source": [
    "import seaborn as sns"
   ]
  },
  {
   "cell_type": "markdown",
   "id": "171494d6",
   "metadata": {},
   "source": [
    "## How many medals have been won by men and women in the history of the Olympics. How many gold, silver, and bronze medals were won for each gender?"
   ]
  },
  {
   "cell_type": "code",
   "execution_count": null,
   "id": "f5dec745",
   "metadata": {},
   "outputs": [],
   "source": [
    "sns.countplot(x='Medal', data=oo)"
   ]
  },
  {
   "cell_type": "code",
   "execution_count": null,
   "id": "b9132090",
   "metadata": {},
   "outputs": [],
   "source": [
    "sns.countplot(x='Medal', data=oo, hue='Gender')"
   ]
  },
  {
   "cell_type": "code",
   "execution_count": null,
   "id": "16fc0320",
   "metadata": {},
   "outputs": [],
   "source": [
    "oo.head()"
   ]
  },
  {
   "cell_type": "code",
   "execution_count": null,
   "id": "34568d5f",
   "metadata": {},
   "outputs": [],
   "source": [
    "c2008 = oo[(oo.NOC == 'CHI') & (oo.Edition == '2008')]\n",
    "c2008"
   ]
  },
  {
   "cell_type": "code",
   "execution_count": null,
   "id": "339ed8ad",
   "metadata": {},
   "outputs": [],
   "source": [
    "oo[oo.NOC.str.contains('CH')]"
   ]
  },
  {
   "cell_type": "code",
   "execution_count": null,
   "id": "f296e0a3",
   "metadata": {},
   "outputs": [],
   "source": [
    "c2008 = oo[(oo.NOC == 'CHN') & (oo.Edition == 2008)]\n",
    "c2008"
   ]
  },
  {
   "cell_type": "code",
   "execution_count": null,
   "id": "137642cd",
   "metadata": {},
   "outputs": [],
   "source": [
    "c2008.Medal.value_counts().plot()"
   ]
  },
  {
   "cell_type": "code",
   "execution_count": null,
   "id": "6681f145",
   "metadata": {},
   "outputs": [],
   "source": [
    "c2008.Gender.value_counts().plot(kind='bar')"
   ]
  },
  {
   "cell_type": "code",
   "execution_count": null,
   "id": "53f314d2",
   "metadata": {},
   "outputs": [],
   "source": [
    "sns.countplot(x='Medal', data=c2008)"
   ]
  },
  {
   "cell_type": "code",
   "execution_count": null,
   "id": "a58c2526",
   "metadata": {},
   "outputs": [],
   "source": [
    "sns.countplot(data=oo, x='Gender')"
   ]
  },
  {
   "cell_type": "code",
   "execution_count": null,
   "id": "5eb1c651",
   "metadata": {},
   "outputs": [],
   "source": [
    "sns.countplot(data=oo, x='Gender', palette='bwr')"
   ]
  },
  {
   "cell_type": "code",
   "execution_count": null,
   "id": "91592266",
   "metadata": {},
   "outputs": [],
   "source": [
    "sns.countplot(x='Medal', data=c2008, hue='Gender')"
   ]
  },
  {
   "cell_type": "code",
   "execution_count": null,
   "id": "f8b6d19a",
   "metadata": {},
   "outputs": [],
   "source": [
    "sns.countplot(x='Medal', data=c2008, hue='Gender', palette='bwr', order=['Gold', 'Silver', 'Bronze'])"
   ]
  },
  {
   "cell_type": "code",
   "execution_count": null,
   "id": "0bb11097",
   "metadata": {},
   "outputs": [],
   "source": [
    "oo.head()"
   ]
  },
  {
   "cell_type": "code",
   "execution_count": null,
   "id": "dcc5f83b",
   "metadata": {},
   "outputs": [],
   "source": [
    "type(oo.index)"
   ]
  },
  {
   "cell_type": "code",
   "execution_count": null,
   "id": "8d08ecae",
   "metadata": {},
   "outputs": [],
   "source": [
    "oo.index[100]"
   ]
  },
  {
   "cell_type": "markdown",
   "id": "437b8145",
   "metadata": {},
   "source": [
    "### Set_index()"
   ]
  },
  {
   "cell_type": "code",
   "execution_count": null,
   "id": "08738217",
   "metadata": {},
   "outputs": [],
   "source": [
    "oo.set_index('Athlete')"
   ]
  },
  {
   "cell_type": "code",
   "execution_count": null,
   "id": "7a2dcf80",
   "metadata": {},
   "outputs": [],
   "source": [
    "oo.head()"
   ]
  },
  {
   "cell_type": "code",
   "execution_count": null,
   "id": "f65134b4",
   "metadata": {},
   "outputs": [],
   "source": [
    "oo.set_index('Athlete', inplace=True)"
   ]
  },
  {
   "cell_type": "code",
   "execution_count": null,
   "id": "30a0d1dc",
   "metadata": {},
   "outputs": [],
   "source": [
    "oo.reset_index(inplace=True)"
   ]
  },
  {
   "cell_type": "code",
   "execution_count": null,
   "id": "9df89ed2",
   "metadata": {},
   "outputs": [],
   "source": [
    "ath = oo.set_index('Athlete')\n",
    "ath"
   ]
  },
  {
   "cell_type": "code",
   "execution_count": null,
   "id": "3177128f",
   "metadata": {},
   "outputs": [],
   "source": [
    "ath.reset_index(inplace=True)"
   ]
  },
  {
   "cell_type": "code",
   "execution_count": null,
   "id": "f8c52310",
   "metadata": {},
   "outputs": [],
   "source": [
    "ath"
   ]
  },
  {
   "cell_type": "code",
   "execution_count": null,
   "id": "9e2919e8",
   "metadata": {},
   "outputs": [],
   "source": [
    "ath.set_index('Athlete', inplace=True)\n",
    "ath.head()"
   ]
  },
  {
   "cell_type": "code",
   "execution_count": null,
   "id": "90abebc9",
   "metadata": {},
   "outputs": [],
   "source": [
    "ath.sort_index(inplace=True)\n",
    "ath.head()"
   ]
  },
  {
   "cell_type": "code",
   "execution_count": null,
   "id": "fd8066d5",
   "metadata": {},
   "outputs": [],
   "source": [
    "ath.sort_index(inplace=True, ascending=False)\n",
    "ath.head()"
   ]
  },
  {
   "cell_type": "markdown",
   "id": "c99b290b",
   "metadata": {},
   "source": [
    "### loc[...]"
   ]
  },
  {
   "cell_type": "code",
   "execution_count": null,
   "id": "1799680c",
   "metadata": {},
   "outputs": [],
   "source": [
    "oo.set_index('Athlete', inplace=True)"
   ]
  },
  {
   "cell_type": "code",
   "execution_count": null,
   "id": "476cac43",
   "metadata": {},
   "outputs": [],
   "source": [
    "oo.loc['BOLT, Usain']"
   ]
  },
  {
   "cell_type": "code",
   "execution_count": null,
   "id": "26c55e6c",
   "metadata": {},
   "outputs": [],
   "source": [
    "oo.reset_index(inplace=True)"
   ]
  },
  {
   "cell_type": "code",
   "execution_count": null,
   "id": "87b56be9",
   "metadata": {},
   "outputs": [],
   "source": [
    "oo.head()"
   ]
  },
  {
   "cell_type": "code",
   "execution_count": null,
   "id": "e7de803c",
   "metadata": {},
   "outputs": [],
   "source": [
    "oo[oo.Athlete == 'BOLT, Usain']"
   ]
  },
  {
   "cell_type": "markdown",
   "id": "44497d39",
   "metadata": {},
   "source": [
    "### iloc[...]"
   ]
  },
  {
   "cell_type": "code",
   "execution_count": null,
   "id": "3ee18399",
   "metadata": {},
   "outputs": [],
   "source": [
    "oo.iloc[1700]"
   ]
  },
  {
   "cell_type": "code",
   "execution_count": null,
   "id": "06275d31",
   "metadata": {},
   "outputs": [],
   "source": [
    "oo.iloc[[1542, 2390, 6000, 15000]]"
   ]
  },
  {
   "cell_type": "code",
   "execution_count": null,
   "id": "7ccdc8c5",
   "metadata": {},
   "outputs": [],
   "source": [
    "oo.iloc[1:4]"
   ]
  },
  {
   "cell_type": "code",
   "execution_count": null,
   "id": "4027d12c",
   "metadata": {},
   "outputs": [],
   "source": [
    "oo.head()"
   ]
  },
  {
   "cell_type": "code",
   "execution_count": null,
   "id": "3ecfadb1",
   "metadata": {},
   "outputs": [],
   "source": [
    "oo.Edition.value_counts().plot(kind='barh')"
   ]
  },
  {
   "cell_type": "code",
   "execution_count": null,
   "id": "f8ef3064",
   "metadata": {},
   "outputs": [],
   "source": [
    "oo.Edition.value_counts().sort_index()"
   ]
  },
  {
   "cell_type": "code",
   "execution_count": null,
   "id": "6c68c616",
   "metadata": {},
   "outputs": [],
   "source": [
    "oo.Edition.value_counts().sort_index().plot()"
   ]
  },
  {
   "cell_type": "code",
   "execution_count": null,
   "id": "59819134",
   "metadata": {},
   "outputs": [],
   "source": [
    "lo = oo[oo.Edition == 2008]\n",
    "lo"
   ]
  },
  {
   "cell_type": "code",
   "execution_count": null,
   "id": "1332fb78",
   "metadata": {},
   "outputs": [],
   "source": [
    "noc = pd.read_csv(r'A:\\Python\\Pandas essential\\Ex_Files_Pandas_EssT\\ExerciseFiles\\data\\Summer Olympic medallists 1896 to 2008 - IOC COUNTRY CODES.csv')\n",
    "noc.head()"
   ]
  },
  {
   "cell_type": "code",
   "execution_count": null,
   "id": "bbb781b9",
   "metadata": {},
   "outputs": [],
   "source": [
    "noc[noc['Country'] != noc['Country.1']]  #these two columns are the same"
   ]
  },
  {
   "cell_type": "code",
   "execution_count": null,
   "id": "378e52e4",
   "metadata": {},
   "outputs": [],
   "source": [
    "noc.set_index('Int Olympic Committee code', inplace=True)"
   ]
  },
  {
   "cell_type": "code",
   "execution_count": null,
   "id": "f65a329c",
   "metadata": {},
   "outputs": [],
   "source": [
    "noc.head()"
   ]
  },
  {
   "cell_type": "code",
   "execution_count": null,
   "id": "4b1fe654",
   "metadata": {},
   "outputs": [],
   "source": [
    "medal_2008 = lo.NOC.value_counts()\n",
    "medal_2008"
   ]
  },
  {
   "cell_type": "code",
   "execution_count": null,
   "id": "c7e97579",
   "metadata": {},
   "outputs": [],
   "source": [
    "noc['medal_2008'] = medal_2008\n",
    "noc.head()"
   ]
  },
  {
   "cell_type": "code",
   "execution_count": null,
   "id": "2cbf4ea5",
   "metadata": {},
   "outputs": [],
   "source": [
    "noc[noc.medal_2008.isnull()]"
   ]
  },
  {
   "cell_type": "code",
   "execution_count": null,
   "id": "1aec1f43",
   "metadata": {},
   "outputs": [],
   "source": [
    "noc.medal_2008.isnull().sum()"
   ]
  },
  {
   "cell_type": "markdown",
   "id": "17da275d",
   "metadata": {},
   "source": [
    "# Groupby"
   ]
  },
  {
   "cell_type": "code",
   "execution_count": null,
   "id": "ff3f95ed",
   "metadata": {},
   "outputs": [],
   "source": [
    "oo.groupby('Edition')"
   ]
  },
  {
   "cell_type": "code",
   "execution_count": null,
   "id": "99e94552",
   "metadata": {},
   "outputs": [],
   "source": [
    "type(oo.groupby('Edition'))"
   ]
  },
  {
   "cell_type": "code",
   "execution_count": null,
   "id": "e7a9dca0",
   "metadata": {},
   "outputs": [],
   "source": [
    "list(oo.groupby('Edition'))"
   ]
  },
  {
   "cell_type": "code",
   "execution_count": null,
   "id": "b2affe36",
   "metadata": {},
   "outputs": [],
   "source": [
    "for group_key, group_value in oo.groupby('Edition'):\n",
    "    print(group_key)\n",
    "    print(group_value)"
   ]
  },
  {
   "cell_type": "code",
   "execution_count": null,
   "id": "b69315aa",
   "metadata": {},
   "outputs": [],
   "source": [
    "oo.groupby('Edition').size()"
   ]
  },
  {
   "cell_type": "code",
   "execution_count": null,
   "id": "579fdcbf",
   "metadata": {},
   "outputs": [],
   "source": [
    "oo.groupby(['Edition', 'NOC', 'Medal']).agg(['min', 'max', 'count'])"
   ]
  },
  {
   "cell_type": "code",
   "execution_count": null,
   "id": "1fa17f46",
   "metadata": {},
   "outputs": [],
   "source": [
    "oo.groupby(['Edition', 'NOC', 'Medal']).agg( 'count')"
   ]
  },
  {
   "cell_type": "code",
   "execution_count": null,
   "id": "8885a6cf",
   "metadata": {},
   "outputs": [],
   "source": [
    "oo.groupby(['Edition', 'NOC', 'Medal']).agg({'Edition': ['min', 'max', 'count']})"
   ]
  },
  {
   "cell_type": "code",
   "execution_count": null,
   "id": "3fdf4eeb",
   "metadata": {},
   "outputs": [],
   "source": [
    "oo.loc[oo.Athlete == 'LEWIS, Carl'].groupby('Athlete').agg({'Edition' : ['min', 'max', 'count']})"
   ]
  },
  {
   "cell_type": "code",
   "execution_count": null,
   "id": "b7747313",
   "metadata": {},
   "outputs": [],
   "source": [
    "oo.head()"
   ]
  },
  {
   "cell_type": "code",
   "execution_count": null,
   "id": "2384cf71",
   "metadata": {},
   "outputs": [],
   "source": [
    "oo.groupby('Edition').agg({'Medal': ['count']}).plot()"
   ]
  },
  {
   "cell_type": "code",
   "execution_count": null,
   "id": "568e1f4e",
   "metadata": {},
   "outputs": [],
   "source": [
    "oo.groupby('Edition').size().plot()"
   ]
  },
  {
   "cell_type": "code",
   "execution_count": null,
   "id": "3190a883",
   "metadata": {},
   "outputs": [],
   "source": [
    "oo.groupby(['Edition', 'NOC']).agg({'Edition': ['min', 'max', 'count']})"
   ]
  },
  {
   "cell_type": "code",
   "execution_count": null,
   "id": "9d4cd4ac",
   "metadata": {},
   "outputs": [],
   "source": [
    "oo.groupby('NOC').agg({'Edition': ['min', 'max', 'count']})"
   ]
  },
  {
   "cell_type": "code",
   "execution_count": null,
   "id": "cb00af88",
   "metadata": {},
   "outputs": [],
   "source": [
    "oo.head()"
   ]
  },
  {
   "cell_type": "code",
   "execution_count": null,
   "id": "22bccdd8",
   "metadata": {},
   "outputs": [],
   "source": [
    "usag = oo[(oo.NOC == 'USA') & (oo.Medal == 'Gold')]\n",
    "usag"
   ]
  },
  {
   "cell_type": "code",
   "execution_count": null,
   "id": "a83cb53c",
   "metadata": {},
   "outputs": [],
   "source": [
    "usag.groupby('Gender').agg({'Medal': ['count']}).plot(kind='barh')"
   ]
  },
  {
   "cell_type": "code",
   "execution_count": null,
   "id": "b16f7c5f",
   "metadata": {},
   "outputs": [],
   "source": [
    "usag.groupby(['Edition', 'Gender']).size()"
   ]
  },
  {
   "cell_type": "code",
   "execution_count": null,
   "id": "273567d8",
   "metadata": {},
   "outputs": [],
   "source": [
    "usag.groupby(['Edition', 'Gender']).size().unstack('Gender', fill_value=0).plot()"
   ]
  },
  {
   "cell_type": "code",
   "execution_count": null,
   "id": "96c31883",
   "metadata": {},
   "outputs": [],
   "source": [
    "oo.groupby(['Athlete', 'Medal']).size()"
   ]
  },
  {
   "cell_type": "code",
   "execution_count": null,
   "id": "b82bc42f",
   "metadata": {},
   "outputs": [],
   "source": [
    "g = oo.groupby(['Athlete', 'Medal']).size().unstack('Medal', fill_value=0)\n",
    "g"
   ]
  },
  {
   "cell_type": "code",
   "execution_count": null,
   "id": "3ccb5a80",
   "metadata": {},
   "outputs": [],
   "source": [
    "g.sort_values(['Gold', 'Silver', 'Bronze'], ascending=False)[['Gold', 'Silver', 'Bronze']].head().plot(kind='barh')"
   ]
  },
  {
   "cell_type": "code",
   "execution_count": null,
   "id": "7f2bed4c",
   "metadata": {},
   "outputs": [],
   "source": []
  }
 ],
 "metadata": {
  "kernelspec": {
   "display_name": "Python 3 (ipykernel)",
   "language": "python",
   "name": "python3"
  },
  "language_info": {
   "codemirror_mode": {
    "name": "ipython",
    "version": 3
   },
   "file_extension": ".py",
   "mimetype": "text/x-python",
   "name": "python",
   "nbconvert_exporter": "python",
   "pygments_lexer": "ipython3",
   "version": "3.9.7"
  },
  "vp": {
   "vp_config_version": "1.0.0",
   "vp_menu_width": 273,
   "vp_note_display": false,
   "vp_note_width": 0,
   "vp_position": {
    "width": 278
   },
   "vp_section_display": false,
   "vp_signature": "VisualPython"
  }
 },
 "nbformat": 4,
 "nbformat_minor": 5
}
